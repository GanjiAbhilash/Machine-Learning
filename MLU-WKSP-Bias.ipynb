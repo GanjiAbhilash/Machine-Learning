{
 "cells": [
  {
   "cell_type": "markdown",
   "metadata": {},
   "source": [
    "# <a name=\"0\">AWEsome Workshop - Identifying and Mitigating Bias in ML</a>\n",
    "\n",
    "__ML Problem:__ \n",
    "The example ML problem for this workshop is a so called binary classification (predicting whether something or someone belongs to a class or not). In this case, we aim to predict whether someone is going to receive a government grant or not. This is a hypothetical prediction problem with an underlying true story:\n",
    "\n",
    "Whether or not someone will receive a grant depends on personal circumstances and all individuals are different. It can be argued that when a human decision maker is approving or denying grants, they can be influenced. This is especially bad if there is a limited resource (e.g. grants) the government can hand out; grants should not be disproportionately awarded to a certain group. Therefore, a machine learning solution is desirable as this can be considered objective decision making. As we will see, this is not necessarily the case. Machine Learning models depend on the input data they use to learn from and said inputs can be inherently biased. \n",
    "\n",
    "The dataset used in this example us using US census information on individuals and was generated using [folktables](https://github.com/zykls/folktables). Folktables provide code to download data from the American Community Survey (ACS) Public Use Microdata Sample (PUMS) files managed by the US Census Bureau. The data itself is governed by the terms of use provided by the Census Bureau.\n",
    "\n",
    "__Notebook Structure:__ \n",
    "In this workshop we will build a classifier to predict if an individual is awarded a government grant or not. The structure of the notebook is outlined below:\n",
    "\n",
    "1. <a href=\"#1\">Read the dataset</a>\n",
    "2. <a href=\"#2\">Data Processing</a>\n",
    "    * <a href=\"#21\">Exploratory Data Analysis</a>\n",
    "    * <a href=\"#22\">Measuring Bias</a>\n",
    "    * <a href=\"#23\">Train - Validation - Test Datasets</a>\n",
    "3. <a href=\"#3\">Training a Classifier</a>\n",
    "    * <a href=\"#31\">Reweighing</a>\n",
    "    * <a href=\"#32\">Model Training</a>\n",
    "    * <a href=\"#33\">Making Predictions w/o Bias Mitigation</a>\n",
    "4. <a href=\"#4\">Measuring Prediction Bias</a>\n",
    "\n",
    "Before we can started with the notebook, we need to load certain libraries. If you have never worked with a Jupyter Notebook before, [this video](https://youtu.be/R1qVqAZfPes?t=85) can be a helpful introduction."
   ]
  },
  {
   "cell_type": "code",
   "execution_count": 1,
   "metadata": {},
   "outputs": [],
   "source": [
    "# Reshaping/basic libraries\n",
    "import pandas as pd\n",
    "import numpy as np\n",
    "\n",
    "# Plotting libraries\n",
    "import matplotlib.pyplot as plt\n",
    "import seaborn as sns\n",
    "\n",
    "sns.set_style(\"darkgrid\", {\"axes.facecolor\": \".9\"})\n",
    "\n",
    "# ML libraries\n",
    "from sklearn.model_selection import train_test_split\n",
    "from sklearn.metrics.pairwise import euclidean_distances\n",
    "\n",
    "# Operational libraries\n",
    "import sys\n",
    "\n",
    "sys.path.append(\"..\")"
   ]
  },
  {
   "cell_type": "markdown",
   "metadata": {},
   "source": [
    "## 1. <a name=\"1\">Read the dataset</a>\n",
    "(<a href=\"#0\">Go to top</a>)\n",
    "\n",
    "Let's import data using [Pandas ` .read_csv()`](https://pandas.pydata.org/docs/reference/api/pandas.read_csv.html) method."
   ]
  },
  {
   "cell_type": "code",
   "execution_count": 2,
   "metadata": {},
   "outputs": [],
   "source": [
    "df = pd.read_csv(\"census_sample.csv\")"
   ]
  },
  {
   "cell_type": "markdown",
   "metadata": {},
   "source": [
    "## 2. <a name=\"2\">Data Processing and Exploration</a>\n",
    "(<a href=\"#0\">Go to top</a>)\n",
    "\n",
    "Before building a Machine Learning (ML) model, it is very important to analyse the data and check for bias. There are many different ways in which bias can hide in a dataset; for this workshop, we will only look at bias that can arise through sampling issues or historical discrepancies between racial groups in the United States."
   ]
  },
  {
   "cell_type": "markdown",
   "metadata": {},
   "source": [
    "### 2.1 <a name=\"21\">Exploratory Data Analysis</a>\n",
    "(<a href=\"#2\">Go to Data Processing</a>)\n",
    "\n",
    "We look at number of rows, columns, and some simple statistics of the dataset."
   ]
  },
  {
   "cell_type": "code",
   "execution_count": 3,
   "metadata": {},
   "outputs": [
    {
     "name": "stdout",
     "output_type": "stream",
     "text": [
      "The shape of the dataset is: (1000, 11)\n"
     ]
    }
   ],
   "source": [
    "# Check how many rows and columns we have in the data frame\n",
    "print(\"The shape of the dataset is:\", df.shape)"
   ]
  },
  {
   "cell_type": "markdown",
   "metadata": {},
   "source": [
    "Let's look at the data set itself and print the first five rows.\n"
   ]
  },
  {
   "cell_type": "code",
   "execution_count": 4,
   "metadata": {},
   "outputs": [
    {
     "data": {
      "text/html": [
       "<div>\n",
       "<style scoped>\n",
       "    .dataframe tbody tr th:only-of-type {\n",
       "        vertical-align: middle;\n",
       "    }\n",
       "\n",
       "    .dataframe tbody tr th {\n",
       "        vertical-align: top;\n",
       "    }\n",
       "\n",
       "    .dataframe thead th {\n",
       "        text-align: right;\n",
       "    }\n",
       "</style>\n",
       "<table border=\"1\" class=\"dataframe\">\n",
       "  <thead>\n",
       "    <tr style=\"text-align: right;\">\n",
       "      <th></th>\n",
       "      <th>AGEP</th>\n",
       "      <th>COW</th>\n",
       "      <th>SCHL</th>\n",
       "      <th>MAR</th>\n",
       "      <th>RELP</th>\n",
       "      <th>WKHP</th>\n",
       "      <th>SEX</th>\n",
       "      <th>RAC</th>\n",
       "      <th>PWGTP</th>\n",
       "      <th>SCH</th>\n",
       "      <th>awarded_grant</th>\n",
       "    </tr>\n",
       "  </thead>\n",
       "  <tbody>\n",
       "    <tr>\n",
       "      <th>0</th>\n",
       "      <td>30.0</td>\n",
       "      <td>1.0</td>\n",
       "      <td>21.0</td>\n",
       "      <td>5.0</td>\n",
       "      <td>0.0</td>\n",
       "      <td>50.0</td>\n",
       "      <td>2.0</td>\n",
       "      <td>A</td>\n",
       "      <td>169.0</td>\n",
       "      <td>1.0</td>\n",
       "      <td>1</td>\n",
       "    </tr>\n",
       "    <tr>\n",
       "      <th>1</th>\n",
       "      <td>19.0</td>\n",
       "      <td>1.0</td>\n",
       "      <td>16.0</td>\n",
       "      <td>5.0</td>\n",
       "      <td>2.0</td>\n",
       "      <td>40.0</td>\n",
       "      <td>1.0</td>\n",
       "      <td>B</td>\n",
       "      <td>102.0</td>\n",
       "      <td>1.0</td>\n",
       "      <td>0</td>\n",
       "    </tr>\n",
       "    <tr>\n",
       "      <th>2</th>\n",
       "      <td>29.0</td>\n",
       "      <td>1.0</td>\n",
       "      <td>20.0</td>\n",
       "      <td>5.0</td>\n",
       "      <td>2.0</td>\n",
       "      <td>40.0</td>\n",
       "      <td>2.0</td>\n",
       "      <td>A</td>\n",
       "      <td>170.0</td>\n",
       "      <td>1.0</td>\n",
       "      <td>0</td>\n",
       "    </tr>\n",
       "    <tr>\n",
       "      <th>3</th>\n",
       "      <td>33.0</td>\n",
       "      <td>6.0</td>\n",
       "      <td>16.0</td>\n",
       "      <td>5.0</td>\n",
       "      <td>2.0</td>\n",
       "      <td>20.0</td>\n",
       "      <td>1.0</td>\n",
       "      <td>A</td>\n",
       "      <td>237.0</td>\n",
       "      <td>1.0</td>\n",
       "      <td>0</td>\n",
       "    </tr>\n",
       "    <tr>\n",
       "      <th>4</th>\n",
       "      <td>46.0</td>\n",
       "      <td>7.0</td>\n",
       "      <td>16.0</td>\n",
       "      <td>3.0</td>\n",
       "      <td>0.0</td>\n",
       "      <td>30.0</td>\n",
       "      <td>1.0</td>\n",
       "      <td>A</td>\n",
       "      <td>81.0</td>\n",
       "      <td>1.0</td>\n",
       "      <td>1</td>\n",
       "    </tr>\n",
       "  </tbody>\n",
       "</table>\n",
       "</div>"
      ],
      "text/plain": [
       "   AGEP  COW  SCHL  MAR  RELP  WKHP  SEX RAC  PWGTP  SCH  awarded_grant\n",
       "0  30.0  1.0  21.0  5.0   0.0  50.0  2.0   A  169.0  1.0              1\n",
       "1  19.0  1.0  16.0  5.0   2.0  40.0  1.0   B  102.0  1.0              0\n",
       "2  29.0  1.0  20.0  5.0   2.0  40.0  2.0   A  170.0  1.0              0\n",
       "3  33.0  6.0  16.0  5.0   2.0  20.0  1.0   A  237.0  1.0              0\n",
       "4  46.0  7.0  16.0  3.0   0.0  30.0  1.0   A   81.0  1.0              1"
      ]
     },
     "execution_count": 4,
     "metadata": {},
     "output_type": "execute_result"
    }
   ],
   "source": [
    "df.head()"
   ]
  },
  {
   "cell_type": "code",
   "execution_count": 5,
   "metadata": {},
   "outputs": [],
   "source": [
    "# We distinguish between categorical and numerical features\n",
    "categorical_features = [\"COW\", \"SCHL\", \"MAR\", \"RELP\", \"SEX\", \"SCH\"]\n",
    "numerical_features = [\"AGEP\", \"WKHP\", \"PWGTP\"]\n",
    "sensitive_features = [\"RAC\"] # this is an example; depending on context age, gender, ... can be sensitive\n",
    "\n",
    "# We cast categorical features to `category`\n",
    "df[categorical_features] = df[categorical_features].astype(\"object\")\n",
    "\n",
    "# We cast numerical features to `int`\n",
    "df[numerical_features] = df[numerical_features].astype(\"int\")"
   ]
  },
  {
   "cell_type": "markdown",
   "metadata": {},
   "source": [
    "One thing we might notice here are the unintuitive feature names; with a few exceptions it is very difficult to understand what the features refer to; e.g. MAR could refer to March. In this context, the data owners are actually encoding the marital status. It could be worthwhile to rename the features, so it will be easier later to understand what they actually refer to. This can be done by creating a renaming dictionary and by using the [Pandas `.rename()`](https://pandas.pydata.org/docs/reference/api/pandas.DataFrame.rename.html) method.\n",
    "\n",
    "```\n",
    "# Create dictionary for new column names\n",
    "rename_dict = {\"MAR\":\"marital_status\"} \n",
    "\n",
    "# Apply new names to dataframe\n",
    "df.rename(rename_dict, axis=1, inplace=True)\n",
    "\n",
    "```\n",
    "\n",
    "For now, we will proceed without the renaming, and simply list the mapping between feature name and proceed to separate the model target from the features that we want to use to predict the target."
   ]
  },
  {
   "cell_type": "code",
   "execution_count": 6,
   "metadata": {},
   "outputs": [],
   "source": [
    "# We distinguish between features and target (what we want to predict)\n",
    "model_target = \"awarded_grant\"\n",
    "model_features = categorical_features + numerical_features"
   ]
  },
  {
   "cell_type": "markdown",
   "metadata": {},
   "source": [
    "Before we start measuring bias, we can look at the data frame again and color the columns based on their type."
   ]
  },
  {
   "cell_type": "code",
   "execution_count": 7,
   "metadata": {},
   "outputs": [
    {
     "name": "stderr",
     "output_type": "stream",
     "text": [
      "/var/folders/bp/n39rnln17tzd7f12lnw6br7w0000gr/T/ipykernel_14008/1188350711.py:3: FutureWarning: this method is deprecated in favour of `Styler.format(precision=..)`\n",
      "  df.head().style.set_precision(0).set_properties(\n"
     ]
    },
    {
     "data": {
      "text/html": [
       "<style type=\"text/css\">\n",
       "#T_0b213_row0_col0, #T_0b213_row0_col5, #T_0b213_row0_col8, #T_0b213_row1_col0, #T_0b213_row1_col5, #T_0b213_row1_col8, #T_0b213_row2_col0, #T_0b213_row2_col5, #T_0b213_row2_col8, #T_0b213_row3_col0, #T_0b213_row3_col5, #T_0b213_row3_col8, #T_0b213_row4_col0, #T_0b213_row4_col5, #T_0b213_row4_col8 {\n",
       "  background-color: #c2ebbb;\n",
       "}\n",
       "#T_0b213_row0_col1, #T_0b213_row0_col2, #T_0b213_row0_col3, #T_0b213_row0_col4, #T_0b213_row0_col6, #T_0b213_row0_col9, #T_0b213_row1_col1, #T_0b213_row1_col2, #T_0b213_row1_col3, #T_0b213_row1_col4, #T_0b213_row1_col6, #T_0b213_row1_col9, #T_0b213_row2_col1, #T_0b213_row2_col2, #T_0b213_row2_col3, #T_0b213_row2_col4, #T_0b213_row2_col6, #T_0b213_row2_col9, #T_0b213_row3_col1, #T_0b213_row3_col2, #T_0b213_row3_col3, #T_0b213_row3_col4, #T_0b213_row3_col6, #T_0b213_row3_col9, #T_0b213_row4_col1, #T_0b213_row4_col2, #T_0b213_row4_col3, #T_0b213_row4_col4, #T_0b213_row4_col6, #T_0b213_row4_col9 {\n",
       "  background-color: #eaddde;\n",
       "}\n",
       "#T_0b213_row0_col7, #T_0b213_row1_col7, #T_0b213_row2_col7, #T_0b213_row3_col7, #T_0b213_row4_col7 {\n",
       "  background-color: #dae0e9;\n",
       "}\n",
       "</style>\n",
       "<table id=\"T_0b213_\">\n",
       "  <thead>\n",
       "    <tr>\n",
       "      <th class=\"blank level0\" >&nbsp;</th>\n",
       "      <th class=\"col_heading level0 col0\" >AGEP</th>\n",
       "      <th class=\"col_heading level0 col1\" >COW</th>\n",
       "      <th class=\"col_heading level0 col2\" >SCHL</th>\n",
       "      <th class=\"col_heading level0 col3\" >MAR</th>\n",
       "      <th class=\"col_heading level0 col4\" >RELP</th>\n",
       "      <th class=\"col_heading level0 col5\" >WKHP</th>\n",
       "      <th class=\"col_heading level0 col6\" >SEX</th>\n",
       "      <th class=\"col_heading level0 col7\" >RAC</th>\n",
       "      <th class=\"col_heading level0 col8\" >PWGTP</th>\n",
       "      <th class=\"col_heading level0 col9\" >SCH</th>\n",
       "      <th class=\"col_heading level0 col10\" >awarded_grant</th>\n",
       "    </tr>\n",
       "  </thead>\n",
       "  <tbody>\n",
       "    <tr>\n",
       "      <th id=\"T_0b213_level0_row0\" class=\"row_heading level0 row0\" >0</th>\n",
       "      <td id=\"T_0b213_row0_col0\" class=\"data row0 col0\" >30</td>\n",
       "      <td id=\"T_0b213_row0_col1\" class=\"data row0 col1\" >1</td>\n",
       "      <td id=\"T_0b213_row0_col2\" class=\"data row0 col2\" >21</td>\n",
       "      <td id=\"T_0b213_row0_col3\" class=\"data row0 col3\" >5</td>\n",
       "      <td id=\"T_0b213_row0_col4\" class=\"data row0 col4\" >0</td>\n",
       "      <td id=\"T_0b213_row0_col5\" class=\"data row0 col5\" >50</td>\n",
       "      <td id=\"T_0b213_row0_col6\" class=\"data row0 col6\" >2</td>\n",
       "      <td id=\"T_0b213_row0_col7\" class=\"data row0 col7\" >A</td>\n",
       "      <td id=\"T_0b213_row0_col8\" class=\"data row0 col8\" >169</td>\n",
       "      <td id=\"T_0b213_row0_col9\" class=\"data row0 col9\" >1</td>\n",
       "      <td id=\"T_0b213_row0_col10\" class=\"data row0 col10\" >1</td>\n",
       "    </tr>\n",
       "    <tr>\n",
       "      <th id=\"T_0b213_level0_row1\" class=\"row_heading level0 row1\" >1</th>\n",
       "      <td id=\"T_0b213_row1_col0\" class=\"data row1 col0\" >19</td>\n",
       "      <td id=\"T_0b213_row1_col1\" class=\"data row1 col1\" >1</td>\n",
       "      <td id=\"T_0b213_row1_col2\" class=\"data row1 col2\" >16</td>\n",
       "      <td id=\"T_0b213_row1_col3\" class=\"data row1 col3\" >5</td>\n",
       "      <td id=\"T_0b213_row1_col4\" class=\"data row1 col4\" >2</td>\n",
       "      <td id=\"T_0b213_row1_col5\" class=\"data row1 col5\" >40</td>\n",
       "      <td id=\"T_0b213_row1_col6\" class=\"data row1 col6\" >1</td>\n",
       "      <td id=\"T_0b213_row1_col7\" class=\"data row1 col7\" >B</td>\n",
       "      <td id=\"T_0b213_row1_col8\" class=\"data row1 col8\" >102</td>\n",
       "      <td id=\"T_0b213_row1_col9\" class=\"data row1 col9\" >1</td>\n",
       "      <td id=\"T_0b213_row1_col10\" class=\"data row1 col10\" >0</td>\n",
       "    </tr>\n",
       "    <tr>\n",
       "      <th id=\"T_0b213_level0_row2\" class=\"row_heading level0 row2\" >2</th>\n",
       "      <td id=\"T_0b213_row2_col0\" class=\"data row2 col0\" >29</td>\n",
       "      <td id=\"T_0b213_row2_col1\" class=\"data row2 col1\" >1</td>\n",
       "      <td id=\"T_0b213_row2_col2\" class=\"data row2 col2\" >20</td>\n",
       "      <td id=\"T_0b213_row2_col3\" class=\"data row2 col3\" >5</td>\n",
       "      <td id=\"T_0b213_row2_col4\" class=\"data row2 col4\" >2</td>\n",
       "      <td id=\"T_0b213_row2_col5\" class=\"data row2 col5\" >40</td>\n",
       "      <td id=\"T_0b213_row2_col6\" class=\"data row2 col6\" >2</td>\n",
       "      <td id=\"T_0b213_row2_col7\" class=\"data row2 col7\" >A</td>\n",
       "      <td id=\"T_0b213_row2_col8\" class=\"data row2 col8\" >170</td>\n",
       "      <td id=\"T_0b213_row2_col9\" class=\"data row2 col9\" >1</td>\n",
       "      <td id=\"T_0b213_row2_col10\" class=\"data row2 col10\" >0</td>\n",
       "    </tr>\n",
       "    <tr>\n",
       "      <th id=\"T_0b213_level0_row3\" class=\"row_heading level0 row3\" >3</th>\n",
       "      <td id=\"T_0b213_row3_col0\" class=\"data row3 col0\" >33</td>\n",
       "      <td id=\"T_0b213_row3_col1\" class=\"data row3 col1\" >6</td>\n",
       "      <td id=\"T_0b213_row3_col2\" class=\"data row3 col2\" >16</td>\n",
       "      <td id=\"T_0b213_row3_col3\" class=\"data row3 col3\" >5</td>\n",
       "      <td id=\"T_0b213_row3_col4\" class=\"data row3 col4\" >2</td>\n",
       "      <td id=\"T_0b213_row3_col5\" class=\"data row3 col5\" >20</td>\n",
       "      <td id=\"T_0b213_row3_col6\" class=\"data row3 col6\" >1</td>\n",
       "      <td id=\"T_0b213_row3_col7\" class=\"data row3 col7\" >A</td>\n",
       "      <td id=\"T_0b213_row3_col8\" class=\"data row3 col8\" >237</td>\n",
       "      <td id=\"T_0b213_row3_col9\" class=\"data row3 col9\" >1</td>\n",
       "      <td id=\"T_0b213_row3_col10\" class=\"data row3 col10\" >0</td>\n",
       "    </tr>\n",
       "    <tr>\n",
       "      <th id=\"T_0b213_level0_row4\" class=\"row_heading level0 row4\" >4</th>\n",
       "      <td id=\"T_0b213_row4_col0\" class=\"data row4 col0\" >46</td>\n",
       "      <td id=\"T_0b213_row4_col1\" class=\"data row4 col1\" >7</td>\n",
       "      <td id=\"T_0b213_row4_col2\" class=\"data row4 col2\" >16</td>\n",
       "      <td id=\"T_0b213_row4_col3\" class=\"data row4 col3\" >3</td>\n",
       "      <td id=\"T_0b213_row4_col4\" class=\"data row4 col4\" >0</td>\n",
       "      <td id=\"T_0b213_row4_col5\" class=\"data row4 col5\" >30</td>\n",
       "      <td id=\"T_0b213_row4_col6\" class=\"data row4 col6\" >1</td>\n",
       "      <td id=\"T_0b213_row4_col7\" class=\"data row4 col7\" >A</td>\n",
       "      <td id=\"T_0b213_row4_col8\" class=\"data row4 col8\" >81</td>\n",
       "      <td id=\"T_0b213_row4_col9\" class=\"data row4 col9\" >1</td>\n",
       "      <td id=\"T_0b213_row4_col10\" class=\"data row4 col10\" >1</td>\n",
       "    </tr>\n",
       "  </tbody>\n",
       "</table>\n"
      ],
      "text/plain": [
       "<pandas.io.formats.style.Styler at 0x7f82a5f5c8b0>"
      ]
     },
     "execution_count": 7,
     "metadata": {},
     "output_type": "execute_result"
    }
   ],
   "source": [
    "# Apply styling to the data frame columns to visually see which column is which data type\n",
    "\n",
    "df.head().style.set_precision(0).set_properties(\n",
    "    **{\"background-color\": \"#eaddde\"}, subset=categorical_features\n",
    ").set_properties(\n",
    "    **{\"background-color\": \"#c2ebbb\"}, subset=numerical_features\n",
    ").set_properties(\n",
    "    **{\"background-color\": \"#dae0e9\"}, subset=sensitive_features\n",
    ")"
   ]
  },
  {
   "cell_type": "markdown",
   "metadata": {},
   "source": [
    "### 2.2 <a name=\"21\">Measuring Bias</a>\n",
    "(<a href=\"#2\">Go to Data Processing</a>)\n",
    "\n",
    "Let's check our target distribution to see if we have biased labels. First, we can look at the labels without overlay of the group membership."
   ]
  },
  {
   "cell_type": "code",
   "execution_count": 8,
   "metadata": {},
   "outputs": [
    {
     "data": {
      "image/png": "[encoded data removed]",
      "text/plain": [
       "<Figure size 360x360 with 1 Axes>"
      ]
     },
     "metadata": {},
     "output_type": "display_data"
    }
   ],
   "source": [
    "sns.catplot(\n",
    "    x=model_target,\n",
    "    data=df,\n",
    "    hue_order=[1, 0],\n",
    "    kind=\"count\",\n",
    "    palette=sns.husl_palette(2),\n",
    ")\n",
    "plt.show()"
   ]
  },
  {
   "cell_type": "markdown",
   "metadata": {},
   "source": [
    "We notice that we are dealing with an imbalanced dataset. This means there are more examples for one type of results (here: 0; meaning individuals not awarded grants). The question now: Will the target distribution be similar per group or is there one group in the data set that has more individuals awarded grants than not. We start with a plot:"
   ]
  },
  {
   "cell_type": "code",
   "execution_count": 9,
   "metadata": {},
   "outputs": [
    {
     "data": {
      "image/png": "[encoded data removed]",
      "text/plain": [
       "<Figure size 435.375x360 with 1 Axes>"
      ]
     },
     "metadata": {},
     "output_type": "display_data"
    }
   ],
   "source": [
    "sns.catplot(\n",
    "    x=\"RAC\",\n",
    "    kind=\"count\",\n",
    "    hue=model_target,\n",
    "    hue_order=[0, 1],\n",
    "    data=df,\n",
    "    palette=sns.husl_palette(2),\n",
    ")\n",
    "plt.show()"
   ]
  },
  {
   "cell_type": "markdown",
   "metadata": {},
   "source": [
    "It appears that the ratio of outcomes vastly differs per group (i.e. Group B has a much worse ratio of individuals awarded grants vs. not). To analyse this in more detail, we need to separate out the groups and calculate the **Difference in Proportion of Labels**. We might also want to know how the *sizes* of the groups compare overall; for this, we calculate **Normalized Class Imbalance**."
   ]
  },
  {
   "cell_type": "markdown",
   "metadata": {},
   "source": [
    "#### Normalized Class Imbalance (CI)\n",
    "To calculate class imbalance, we compare the number of individuals per group by subtracting. To normalize, we divide by the total number of individuals in the data set. The equation for Normalized Class Imbalance is therefore:\n",
    "<br>\n",
    "<br>\n",
    "\n",
    "\n",
    "<center>$CI = \\frac{n_{RAC=A} - n_{RAC=B}}{n_{RAC=A} + n_{RAC=B}}$</center>"
   ]
  },
  {
   "cell_type": "code",
   "execution_count": 10,
   "metadata": {},
   "outputs": [],
   "source": [
    "n_A = len(df[df[\"RAC\"] == \"A\"])  # n_RAC=\"A\"\n",
    "n_B = len(df[df[\"RAC\"] == \"B\"])  # n_RAC=\"B\""
   ]
  },
  {
   "cell_type": "code",
   "execution_count": 13,
   "metadata": {},
   "outputs": [
    {
     "name": "stdout",
     "output_type": "stream",
     "text": [
      "0.676\n"
     ]
    }
   ],
   "source": [
    "# Implement the equation for CI\n",
    "# Use the variables n_A and n_B to complete the equation\n",
    "\n",
    "ci = (n_A-n_B)/(n_A+n_B)\n",
    "\n",
    "print(ci)"
   ]
  },
  {
   "cell_type": "markdown",
   "metadata": {},
   "source": [
    "#### Difference in Proportion of Labels (DPL)\n",
    "The difference in proportions of labels (DPL) compares the proportion of the labels with positive outcome for Group A with the proportion of labels with positive outcome of Group B. One important thing to note: It is always important to think about the meaning of the label and relate it to what can be considered \"positive\" in a given context.\n",
    "<br>\n",
    "<br>\n",
    "\n",
    "<center>$DPL = \\frac{n_{eligible \\wedge RAC=A}}{n_{RAC=A}} - \\frac{n_{eligible \\wedge RAC=B}}{n_{RAC=B}}$</center>"
   ]
  },
  {
   "cell_type": "code",
   "execution_count": 14,
   "metadata": {},
   "outputs": [],
   "source": [
    "n_eligible_A = len(df[(df[\"RAC\"] == \"A\") & (df[model_target] == 1)])\n",
    "n_eligible_B = len(df[(df[\"RAC\"] == \"B\") & (df[model_target] == 1)])"
   ]
  },
  {
   "cell_type": "code",
   "execution_count": 15,
   "metadata": {},
   "outputs": [
    {
     "name": "stdout",
     "output_type": "stream",
     "text": [
      "0.28617519667639\n"
     ]
    }
   ],
   "source": [
    "# Implement the equation for DPL\n",
    "# Use the variables defined above to complete the equation\n",
    "\n",
    "dpl = (n_eligible_A/n_A)-(n_eligible_B/n_B)\n",
    "\n",
    "print(dpl)"
   ]
  },
  {
   "cell_type": "markdown",
   "metadata": {},
   "source": [
    "Which group is disproportionately favored? You can have a look at the [definition of DPL](https://docs.aws.amazon.com/sagemaker/latest/dg/clarify-data-bias-metric-true-label-imbalance.html) or the slides for help. \n",
    "\n",
    "```\n",
    "\n",
    "\n",
    "```"
   ]
  },
  {
   "cell_type": "markdown",
   "metadata": {},
   "source": [
    "The DPL values range over the interval [-1, 1]. If DPL is close enough to 0, then we say that demographic parity has been achieved. The closer to 0 the better."
   ]
  },
  {
   "cell_type": "markdown",
   "metadata": {},
   "source": [
    "### 2.3 <a name=\"23\">Train - Test Datasets</a>\n",
    "(<a href=\"#2\">Go to Data Processing</a>)\n",
    "\n",
    "A standard step when building Machine Learning models is to split the data into several separate data frames (some of which will be used to train/learn a model and others to evaluate it). For more details about the this step, have a look at an interactive article [here](https://mlu.corp.amazon.com/explain/train-test-validation). In this notebook, we will use [Sklearn's `train_test_split()`](https://scikit-learn.org/stable/modules/generated/sklearn.model_selection.train_test_split.html) method to split the data.\n",
    "\n",
    "Don't worry about fully understanding this; we are including the code as it is standard practice in Machine Learning."
   ]
  },
  {
   "cell_type": "code",
   "execution_count": 16,
   "metadata": {},
   "outputs": [
    {
     "name": "stdout",
     "output_type": "stream",
     "text": [
      "Train - Test datasets shapes:  (900, 11) (100, 11)\n"
     ]
    }
   ],
   "source": [
    "# We split the dataframe (df) into a train (90%) and test (20%) set\n",
    "train_data, test_data = train_test_split(\n",
    "    df, test_size=0.1, shuffle=True, random_state=1\n",
    ")\n",
    "\n",
    "# Print the shapes of the Train - Test Datasets\n",
    "print(\n",
    "    \"Train - Test datasets shapes: \",\n",
    "    train_data.shape,\n",
    "    test_data.shape,\n",
    ")"
   ]
  },
  {
   "cell_type": "markdown",
   "metadata": {},
   "source": [
    "## 3. <a name=\"3\">Training a Classifier</a>\n",
    "(<a href=\"#0\">Go to top</a>)\n",
    "\n",
    "We are ready to build a model. In this workshop we will implement a KNN classifier. To show the difference bias mitigation has on the result, we will train the KNN classifier in two different ways:\n",
    "1. KNN without bias mitigation \n",
    "2. KNN with bias mitigation (reweighing)\n",
    "\n",
    "To implement the bias mitigation, we first need to calculate the reweighing factors that we can then pass into the KNN algorithm."
   ]
  },
  {
   "cell_type": "markdown",
   "metadata": {},
   "source": [
    "### 3.1 <a name=\"31\"> Reweighing</a>\n",
    "(<a href=\"#3\">Go to Train a Classifier</a>)\n",
    "\n",
    "Below you can find the code implementation that will calculate the weights per group."
   ]
  },
  {
   "cell_type": "code",
   "execution_count": 17,
   "metadata": {},
   "outputs": [],
   "source": [
    "def reweighing(data, label, sensitive_attr, return_list=True):\n",
    "    label_dict = dict()\n",
    "    try:\n",
    "        # This will loop through the different labels (1 - awarded grant, 0 - not awarded)\n",
    "        for outcome in data[label].unique():\n",
    "            weight_map = dict()\n",
    "            # Check for all possible groups (here we have A & B but there could be more in reality)\n",
    "            for val in data[sensitive_attr].unique():\n",
    "                # Calculate the probabilities\n",
    "                nom = (\n",
    "                    len(data[data[sensitive_attr] == val])\n",
    "                    / len(data)\n",
    "                    * len(data[data[label] == outcome])\n",
    "                    / len(data)\n",
    "                )\n",
    "                denom = len(\n",
    "                    data[(data[sensitive_attr] == val) & (data[label] == outcome)]\n",
    "                ) / len(data)\n",
    "                # Store weights according to sensitive attribute\n",
    "                weight_map[val] = round(nom / denom, 2)\n",
    "            # Store \n",
    "            label_dict[outcome] = weight_map\n",
    "        # Create full list of all weights for every data point provided as input\n",
    "        data[\"weights\"] = list(\n",
    "            map(lambda x, y: label_dict[y][x], data[sensitive_attr], data[label])\n",
    "        )\n",
    "        if return_list == True:\n",
    "            return data[\"weights\"].to_list()\n",
    "        else:\n",
    "            return label_dict\n",
    "    except Exception as err:\n",
    "        print(err)\n",
    "        print(\"Dataframe might have no entries.\")"
   ]
  },
  {
   "cell_type": "markdown",
   "metadata": {},
   "source": [
    "The output of the `reweighing` function is a nested dictionary where the outer keys of the dictionary indicate the outcomes (eligible or not). The inner keys in the dictionary correspond to the sensitive groups and the values are the weights."
   ]
  },
  {
   "cell_type": "code",
   "execution_count": 18,
   "metadata": {},
   "outputs": [
    {
     "name": "stdout",
     "output_type": "stream",
     "text": [
      "{1: {'A': 0.9, 'B': 2.3}, 0: {'A': 1.09, 'B': 0.71}}\n"
     ]
    }
   ],
   "source": [
    "# 2 outcomes (eligible or not eligible for medicare) and 2 groups (Group A & Group B) yield 4 weighting factors\n",
    "print(reweighing(df, model_target, \"RAC\", return_list=False))\n",
    "\n",
    "# df: this is our data frame\n",
    "# model_target: this is \"awarded_grant\""
   ]
  },
  {
   "cell_type": "markdown",
   "metadata": {},
   "source": [
    "We want to calculate the weights for every row of our data frame and store those in a list:"
   ]
  },
  {
   "cell_type": "code",
   "execution_count": 19,
   "metadata": {},
   "outputs": [],
   "source": [
    "# We store all the weights in a list\n",
    "bias_weights = reweighing(df, model_target, \"RAC\", return_list=True)"
   ]
  },
  {
   "cell_type": "markdown",
   "metadata": {},
   "source": [
    "### 3.2 <a name=\"32\">Model Training</a>\n",
    "(<a href=\"#3\">Go to Train a Classifier</a>)\n",
    "\n",
    "We want to use K-Nearest Neighbor classifier for predictions in this workshop. The KNN algorithm follows these steps:\n",
    "1. Calculate distance between the data point that we want to predict for and all data points from the training set\n",
    "2. Sort the distance values from closest to furthest and select k closest (neighbors)\n",
    "3. Check which class the k closest neighbors belong to and assign majority vote as prediction output\n",
    "\n",
    "This algorithm is implemented efficiently in Sklearn. However, the default algorithm does not allow directly for bias mitigation, so we will use a custom KNN implementation. Before we can use KNN, we need to clean up our data frame a little bit and scale all values. Otherwise KNN will simply favor certain predictions based on the scale the feature has."
   ]
  },
  {
   "cell_type": "code",
   "execution_count": 20,
   "metadata": {},
   "outputs": [],
   "source": [
    "# Let's prepare the training data\n",
    "X_train = train_data[model_features]\n",
    "y_train = train_data[model_target]\n",
    "\n",
    "# Scale the training data to avoid feature scale impacting the results\n",
    "X_train = pd.concat(\n",
    "    [\n",
    "        (X_train[numerical_features] - X_train[numerical_features].min())\n",
    "        / (X_train[numerical_features].max() - X_train[numerical_features].min()),\n",
    "        pd.get_dummies(X_train.drop(numerical_features, axis=1)),\n",
    "    ],\n",
    "    axis=1,\n",
    ")"
   ]
  },
  {
   "cell_type": "code",
   "execution_count": 21,
   "metadata": {},
   "outputs": [],
   "source": [
    "def KNN_Classifier(test_df, n_neighbors=3, weighted=True):\n",
    "    \"\"\"Custom KNN Classifier with bias weight scaling.\"\"\"\n",
    "    # Create empty list to store predictions in\n",
    "    predictions = []\n",
    "    # For every point in the test data, calculate distance to train data\n",
    "    for k in range(len(test_df)):\n",
    "        dis = []\n",
    "        for i in range(len(X_train)):\n",
    "            dis.append(\n",
    "                euclidean_distances(\n",
    "                    test_df.iloc[k].values.reshape(1, -1),\n",
    "                    X_train.iloc[i].values.reshape(1, -1),\n",
    "                )[0][0]\n",
    "            )\n",
    "        # Divide by bias weights to scale data\n",
    "        if weighted == True:\n",
    "            dis_new = [i / j for i, j in zip(dis, bias_weights)]\n",
    "        else:\n",
    "            dis_new = dis\n",
    "        # Find k closest neighbors\n",
    "        neighbors = np.array(dis_new).argsort()[:n_neighbors]\n",
    "        # Select the classes those neighbors have\n",
    "        neighbors_classes = y_train.iloc[neighbors].to_list()\n",
    "        # Create majority vote\n",
    "        majority_vote = max(set(neighbors_classes), key=neighbors_classes.count)\n",
    "        # Store vote as prediction output\n",
    "        predictions.append(majority_vote)\n",
    "    return predictions"
   ]
  },
  {
   "cell_type": "markdown",
   "metadata": {},
   "source": [
    "### 3.3 <a name=\"33\">Making Predictions w/o Bias Mitigation</a>\n",
    "(<a href=\"#3\">Go to Train a Classifier</a>)\n",
    "\n",
    "Before we can make predictions, we need to make sure that data we want to test on is also scaled."
   ]
  },
  {
   "cell_type": "code",
   "execution_count": 22,
   "metadata": {},
   "outputs": [],
   "source": [
    "# Get validation data to validate the classifier\n",
    "X_test = test_data[model_features]\n",
    "y_test = test_data[model_target]\n",
    "\n",
    "# Scale the test data to avoid feature scale impacting the results\n",
    "X_test = pd.concat(\n",
    "    [\n",
    "        (X_test[numerical_features] - X_test[numerical_features].min())\n",
    "        / (X_test[numerical_features].max() - X_test[numerical_features].min()),\n",
    "        pd.get_dummies(X_test.drop(numerical_features, axis=1)),\n",
    "    ],\n",
    "    axis=1,\n",
    ")\n",
    "\n",
    "# Finally, we need to make sure that all columns that exist in X_train also exist in X_test\n",
    "X_test = X_test.reindex(columns=X_train.columns, fill_value=0)"
   ]
  },
  {
   "cell_type": "markdown",
   "metadata": {},
   "source": [
    "The goal for the model is to create predictions for both groups that have a DPL value as close to 0 as possible. Therefore, we will train the model with and then without bias mitigation (reweighing) and compare the DPL values."
   ]
  },
  {
   "cell_type": "code",
   "execution_count": 23,
   "metadata": {},
   "outputs": [],
   "source": [
    "test_predictions = KNN_Classifier(X_test, n_neighbors=5, weighted=False)"
   ]
  },
  {
   "cell_type": "markdown",
   "metadata": {},
   "source": [
    "In the cell below, call the `KNN_Classifier` function and set the weight parameter to `True`. Keep the number of neighbors at 5 to make it a fair comparison."
   ]
  },
  {
   "cell_type": "code",
   "execution_count": 24,
   "metadata": {},
   "outputs": [],
   "source": [
    "# Complete the code here\n",
    "test_predictions_mitigation = KNN_Classifier(X_test, n_neighbors=5, weighted=True)"
   ]
  },
  {
   "cell_type": "markdown",
   "metadata": {},
   "source": [
    "We will create a new data frame with all the predictions to make it easier to compare:"
   ]
  },
  {
   "cell_type": "code",
   "execution_count": 25,
   "metadata": {},
   "outputs": [
    {
     "data": {
      "text/html": [
       "<div>\n",
       "<style scoped>\n",
       "    .dataframe tbody tr th:only-of-type {\n",
       "        vertical-align: middle;\n",
       "    }\n",
       "\n",
       "    .dataframe tbody tr th {\n",
       "        vertical-align: top;\n",
       "    }\n",
       "\n",
       "    .dataframe thead th {\n",
       "        text-align: right;\n",
       "    }\n",
       "</style>\n",
       "<table border=\"1\" class=\"dataframe\">\n",
       "  <thead>\n",
       "    <tr style=\"text-align: right;\">\n",
       "      <th></th>\n",
       "      <th>RAC</th>\n",
       "      <th>awarded_grant</th>\n",
       "      <th>y_test_pred</th>\n",
       "      <th>y_test_mitigation</th>\n",
       "    </tr>\n",
       "  </thead>\n",
       "  <tbody>\n",
       "    <tr>\n",
       "      <th>0</th>\n",
       "      <td>A</td>\n",
       "      <td>0</td>\n",
       "      <td>1</td>\n",
       "      <td>0</td>\n",
       "    </tr>\n",
       "    <tr>\n",
       "      <th>1</th>\n",
       "      <td>A</td>\n",
       "      <td>0</td>\n",
       "      <td>1</td>\n",
       "      <td>0</td>\n",
       "    </tr>\n",
       "    <tr>\n",
       "      <th>2</th>\n",
       "      <td>A</td>\n",
       "      <td>1</td>\n",
       "      <td>1</td>\n",
       "      <td>0</td>\n",
       "    </tr>\n",
       "    <tr>\n",
       "      <th>3</th>\n",
       "      <td>B</td>\n",
       "      <td>0</td>\n",
       "      <td>1</td>\n",
       "      <td>0</td>\n",
       "    </tr>\n",
       "    <tr>\n",
       "      <th>4</th>\n",
       "      <td>A</td>\n",
       "      <td>0</td>\n",
       "      <td>0</td>\n",
       "      <td>0</td>\n",
       "    </tr>\n",
       "  </tbody>\n",
       "</table>\n",
       "</div>"
      ],
      "text/plain": [
       "  RAC  awarded_grant  y_test_pred  y_test_mitigation\n",
       "0   A              0            1                  0\n",
       "1   A              0            1                  0\n",
       "2   A              1            1                  0\n",
       "3   B              0            1                  0\n",
       "4   A              0            0                  0"
      ]
     },
     "execution_count": 25,
     "metadata": {},
     "output_type": "execute_result"
    }
   ],
   "source": [
    "# Create dataframe that contains predictions and the sensitive attribute\n",
    "pred_df = pd.concat(\n",
    "    [\n",
    "        test_data.reset_index(drop=True)[[\"RAC\", model_target]],\n",
    "        pd.Series(test_predictions, name=\"y_test_pred\"),\n",
    "        pd.Series(test_predictions_mitigation, name=\"y_test_mitigation\"),\n",
    "    ],\n",
    "    axis=1,\n",
    ")\n",
    "\n",
    "pred_df.head()"
   ]
  },
  {
   "cell_type": "markdown",
   "metadata": {},
   "source": [
    "## 4. <a name=\"4\">Measuring Prediction Bias: DPL for Predictions (DPPL)</a> \n",
    "\n",
    "Now that we have predictions we can compare and check several things:\n",
    "- Check what the baseline DPL value is for the test data \n",
    "- Compare how the model with mitigation fares again the baseline\n",
    "- Compare how the model without intervention fares again the baseline\n",
    "\n",
    "#### DPL baseline\n",
    "Let's start by calculating the baseline DPL value.\n"
   ]
  },
  {
   "cell_type": "code",
   "execution_count": 26,
   "metadata": {},
   "outputs": [],
   "source": [
    "n_A_post = len(pred_df[pred_df[\"RAC\"] == \"A\"])  # n_RAC=A\n",
    "n_B_post = len(pred_df[pred_df[\"RAC\"] == \"B\"])  # n_RAC=B"
   ]
  },
  {
   "cell_type": "code",
   "execution_count": 27,
   "metadata": {},
   "outputs": [
    {
     "data": {
      "text/plain": [
       "0.2651072124756335"
      ]
     },
     "execution_count": 27,
     "metadata": {},
     "output_type": "execute_result"
    }
   ],
   "source": [
    "n_eligible_A_test = len(\n",
    "    pred_df[(pred_df[\"RAC\"] == \"A\") & (pred_df[model_target] == 1)]\n",
    ")\n",
    "n_eligible_B_test = len(\n",
    "    pred_df[(pred_df[\"RAC\"] == \"B\") & (pred_df[model_target] == 1)]\n",
    ")\n",
    "\n",
    "((n_eligible_A_test) / (n_A_post)) - ((n_eligible_B_test) / (n_B_post))"
   ]
  },
  {
   "cell_type": "markdown",
   "metadata": {},
   "source": [
    "The baseline is pretty much exactly what we saw when calculating DPL across the whole data set (the above is DPL for the test proportion). We can be sure that our test data follows the same distribution as the full data set and proceed to compare the model predictions to the baseline we just established."
   ]
  },
  {
   "cell_type": "markdown",
   "metadata": {},
   "source": [
    "#### DPL for Model with no intervention\n",
    "Let's calculate DPL for the predictions and compare them to the original DPL value (the difference in proportion of labels in the original data frame):"
   ]
  },
  {
   "cell_type": "code",
   "execution_count": 28,
   "metadata": {},
   "outputs": [
    {
     "data": {
      "text/plain": [
       "0.28654970760233917"
      ]
     },
     "execution_count": 28,
     "metadata": {},
     "output_type": "execute_result"
    }
   ],
   "source": [
    "n_eligible_A_post = len(\n",
    "    pred_df[(pred_df[\"RAC\"] == \"A\") & (pred_df[\"y_test_pred\"] == 1)]\n",
    ")\n",
    "n_eligible_B_post = len(\n",
    "    pred_df[(pred_df[\"RAC\"] == \"B\") & (pred_df[\"y_test_pred\"] == 1)]\n",
    ")\n",
    "\n",
    "# Calculate DPPL for the model with no bias mitmigation\n",
    "((n_eligible_A_post) / (n_A_post)) - ((n_eligible_B_post) / (n_B_post))"
   ]
  },
  {
   "cell_type": "markdown",
   "metadata": {},
   "source": [
    "We can see here that the model without bias intervention actually made the situation worse for Group B. Before the model was trained, the DPL value was 0.27; the predictions give a DPL of 0.29. So without any intervention, this model is predicting slightly more biased results vs. the baseline. This is a very small difference and could be due to fluctuation but could also indicate a pattern.\n",
    "\n",
    "\n",
    "#### DPL for Model with bias mitigation\n",
    "Let's have a look at the DPL value for the model that was trained with the bias weights:"
   ]
  },
  {
   "cell_type": "code",
   "execution_count": 29,
   "metadata": {},
   "outputs": [
    {
     "data": {
      "text/plain": [
       "0.11630929174788823"
      ]
     },
     "execution_count": 29,
     "metadata": {},
     "output_type": "execute_result"
    }
   ],
   "source": [
    "n_eligible_A_mitigated_post = len(\n",
    "    pred_df[(pred_df[\"RAC\"] == \"A\") & (pred_df[\"y_test_mitigation\"] == 1)]\n",
    ")\n",
    "n_eligible_B_mitigated_post = len(\n",
    "    pred_df[(pred_df[\"RAC\"] == \"B\") & (pred_df[\"y_test_mitigation\"] == 1)]\n",
    ")\n",
    "\n",
    "# Calculate DPPL for the model with bias mitigation\n",
    "((n_eligible_A_mitigated_post) / (n_A_post)) - (\n",
    "    (n_eligible_B_mitigated_post) / (n_B_post)\n",
    ")"
   ]
  },
  {
   "cell_type": "markdown",
   "metadata": {},
   "source": [
    "This value looks much better. Clearly the reweighing took effect. While comparing the DPL values is very helpful, it is also advisable to plot the distribution of predictions to visually inspect the behavior.\n",
    "\n",
    "We create three plots below:\n",
    "1. Baseline\n",
    "2. Biased Model\n",
    "3. Mitigation"
   ]
  },
  {
   "cell_type": "code",
   "execution_count": 30,
   "metadata": {},
   "outputs": [
    {
     "data": {
      "image/png": "[encoded data removed]",
      "text/plain": [
       "<Figure size 1152x432 with 3 Axes>"
      ]
     },
     "metadata": {},
     "output_type": "display_data"
    }
   ],
   "source": [
    "# Initialize figure\n",
    "fig, (ax1, ax2, ax3) = plt.subplots(1, 3, figsize=(16, 6))\n",
    "# Set title of figure\n",
    "fig.suptitle(\"Comparison of Model Predictions and Baseline\")\n",
    "\n",
    "# Create first plot of baseline values\n",
    "ax1.bar(\n",
    "    [\"A\", \"B\"],\n",
    "    pred_df[pred_df[model_target] == 0][\"RAC\"].value_counts(),\n",
    "    color=\"#f77189\",\n",
    ")\n",
    "ax1.bar(\n",
    "    [\"A\", \"B\"],\n",
    "    pred_df[pred_df[model_target] == 1][\"RAC\"].value_counts(),\n",
    "    color=\"#36ada4\",\n",
    ")\n",
    "\n",
    "ax1.legend([\"not awarded\", \"awarded\"])\n",
    "ax1.title.set_text('Baseline target distribution')\n",
    "\n",
    "# Create second plot of values without bias mitigation\n",
    "ax2.bar(\n",
    "    [\"A\", \"B\"],\n",
    "    pred_df[pred_df[\"y_test_pred\"] == 0][\"RAC\"].value_counts(),\n",
    "    color=\"#f77189\",\n",
    ")\n",
    "ax2.bar(\n",
    "    [\"A\", \"B\"],\n",
    "    pred_df[pred_df[\"y_test_pred\"] == 1][\"RAC\"].value_counts(),\n",
    "    color=\"#36ada4\",\n",
    ")\n",
    "\n",
    "ax2.legend([\"not awarded\", \"awarded\"])\n",
    "ax2.title.set_text('Predictions without bias mitigation')\n",
    "\n",
    "# Create third plot of values with bias mitigation\n",
    "ax3.bar(\n",
    "    [\"A\", \"B\"],\n",
    "    pred_df[pred_df[\"y_test_mitigation\"] == 0][\"RAC\"].value_counts(),\n",
    "    color=\"#f77189\",\n",
    ")\n",
    "ax3.bar(\n",
    "    [\"A\", \"B\"],\n",
    "    pred_df[pred_df[\"y_test_mitigation\"] == 1][\"RAC\"].value_counts(),\n",
    "    color=\"#36ada4\",\n",
    ")\n",
    "\n",
    "ax3.legend([\"not awarded\", \"awarded\"])\n",
    "ax3.title.set_text('Predictions with bias mitigation')\n",
    "\n",
    "# Align y-axis\n",
    "ax2.sharey(ax1)\n",
    "ax3.sharey(ax1)"
   ]
  },
  {
   "cell_type": "markdown",
   "metadata": {},
   "source": [
    "This is looking very promising indeed. We can clearly see that the model with bias mitigation has a much more balanced output across the groups A and B. There is one obvious issue with this - the model here assumes that our fictional government has grants to give to everyone who is deserving. In reality, this does not always hold true and we might need to look at another fairness metric that balances the outcomes while also restricting the total number of positives."
   ]
  },
  {
   "cell_type": "markdown",
   "metadata": {},
   "source": [
    "## Thank you for participating in the workshop!"
   ]
  },
  {
   "cell_type": "markdown",
   "metadata": {},
   "source": [
    "If you finished this notebook quickly and want another challenge, try and implement another classification algorithm: Logistic Regression (don't get fooled by the name, this really is a classifier).\n",
    "\n",
    "The syntax for Logistic Regression is:\n",
    "\n",
    "```\n",
    "from sklearn.linear_model import LogisticRegression\n",
    "model_lr = LogisticRegression(solver=\"liblinear\", penalty=\"l2\")\n",
    "```\n",
    "\n",
    "It is possible pass the bias_weights to the Logistic Regression algorithm in the [`.fit()` method](https://scikit-learn.org/stable/modules/generated/sklearn.linear_model.LogisticRegression.html#sklearn.linear_model.LogisticRegression.fit) by specifying `sample_weight = list(map(bias_weights.__getitem__, X_train.index))`. This will select the correct bias weights based on the index of the training data points."
   ]
  },
  {
   "cell_type": "code",
   "execution_count": null,
   "metadata": {},
   "outputs": [],
   "source": [
    "# Implement the code here - this is purely optional in case you are done quickly "
   ]
  },
  {
   "cell_type": "code",
   "execution_count": 31,
   "metadata": {},
   "outputs": [],
   "source": [
    "from sklearn.linear_model import LogisticRegression\n",
    "model_lr = LogisticRegression(solver=\"liblinear\", penalty=\"l2\")"
   ]
  },
  {
   "cell_type": "code",
   "execution_count": 32,
   "metadata": {},
   "outputs": [],
   "source": [
    "sample_weight = list(map(bias_weights.__getitem__, X_train.index))"
   ]
  },
  {
   "cell_type": "code",
   "execution_count": 35,
   "metadata": {},
   "outputs": [
    {
     "ename": "TypeError",
     "evalue": "'LogisticRegression' object is not callable",
     "output_type": "error",
     "traceback": [
      "\u001b[0;31m---------------------------------------------------------------------------\u001b[0m",
      "\u001b[0;31mTypeError\u001b[0m                                 Traceback (most recent call last)",
      "\u001b[0;32m/var/folders/bp/n39rnln17tzd7f12lnw6br7w0000gr/T/ipykernel_14008/1949286373.py\u001b[0m in \u001b[0;36m<module>\u001b[0;34m\u001b[0m\n\u001b[1;32m      1\u001b[0m \u001b[0;31m# Complete the code here\u001b[0m\u001b[0;34m\u001b[0m\u001b[0;34m\u001b[0m\u001b[0m\n\u001b[0;32m----> 2\u001b[0;31m \u001b[0mtest_predictions_mitigation\u001b[0m \u001b[0;34m=\u001b[0m \u001b[0mmodel_lr\u001b[0m\u001b[0;34m(\u001b[0m\u001b[0mX_test\u001b[0m\u001b[0;34m)\u001b[0m\u001b[0;34m\u001b[0m\u001b[0;34m\u001b[0m\u001b[0m\n\u001b[0m",
      "\u001b[0;31mTypeError\u001b[0m: 'LogisticRegression' object is not callable"
     ]
    }
   ],
   "source": [
    "# Complete the code here\n",
    "test_predictions_mitigation = KNN_Classifier(X_test, n_neighbors=5, weighted=True)"
   ]
  },
  {
   "cell_type": "code",
   "execution_count": null,
   "metadata": {},
   "outputs": [],
   "source": []
  }
 ],
 "metadata": {
  "kernelspec": {
   "display_name": "Python 3 (ipykernel)",
   "language": "python",
   "name": "python3"
  },
  "language_info": {
   "codemirror_mode": {
    "name": "ipython",
    "version": 3
   },
   "file_extension": ".py",
   "mimetype": "text/x-python",
   "name": "python",
   "nbconvert_exporter": "python",
   "pygments_lexer": "ipython3",
   "version": "3.9.7"
  }
 },
 "nbformat": 4,
 "nbformat_minor": 4
}
